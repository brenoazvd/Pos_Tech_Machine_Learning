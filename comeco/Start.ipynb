{
 "cells": [
  {
   "cell_type": "code",
   "execution_count": 3,
   "metadata": {},
   "outputs": [
    {
     "name": "stdout",
     "output_type": "stream",
     "text": [
      "5\n",
      "4\n",
      "3\n",
      "2\n"
     ]
    }
   ],
   "source": [
    "contagem = 5\n",
    "while contagem > 1:\n",
    "    print(contagem)\n",
    "    contagem -=1"
   ]
  },
  {
   "cell_type": "code",
   "execution_count": null,
   "metadata": {},
   "outputs": [],
   "source": [
    "# W: Escrita\n",
    "with open ('arquivo.txt','w') as file:\n",
    "    file.write(\"Olá, mundo!\")"
   ]
  },
  {
   "cell_type": "code",
   "execution_count": 16,
   "metadata": {},
   "outputs": [
    {
     "name": "stdout",
     "output_type": "stream",
     "text": [
      "Olá, mundo!\n"
     ]
    }
   ],
   "source": [
    "# R: leitura\n",
    "with open ('arquivo.txt', 'r') as file:\n",
    "    conteudo = file.read()\n",
    "    print(conteudo)"
   ]
  },
  {
   "cell_type": "code",
   "execution_count": null,
   "metadata": {},
   "outputs": [
    {
     "name": "stdout",
     "output_type": "stream",
     "text": [
      "Maiusculo: MAIOR DE TODOS OS MARESPOSEIDON\n"
     ]
    }
   ],
   "source": [
    "#Concatenação e .upper (Deixa em maiusculo)\n",
    "\n",
    "Maior = 'Maior de todos os mares'\n",
    "Poseidon = 'Poseidon'\n",
    "maiusculo = (Maior + '' + Poseidon).upper()\n",
    "print('Maiusculo:', maiusculo)"
   ]
  },
  {
   "cell_type": "code",
   "execution_count": 17,
   "metadata": {},
   "outputs": [
    {
     "name": "stdout",
     "output_type": "stream",
     "text": [
      "Maiusculo: maior de todos os maresposeidon\n"
     ]
    }
   ],
   "source": [
    "#Concatenação e .lower (Deixa em minusculo)\n",
    "\n",
    "Maior = 'Maior de todos os mares'\n",
    "Poseidon = 'Poseidon'\n",
    "maiusculo = (Maior + '' + Poseidon).lower()\n",
    "print('Maiusculo:', maiusculo)"
   ]
  },
  {
   "cell_type": "code",
   "execution_count": null,
   "metadata": {},
   "outputs": [
    {
     "name": "stdout",
     "output_type": "stream",
     "text": [
      "Nova frase Breno é bom correndo ao ar livre\n"
     ]
    }
   ],
   "source": [
    "#Replace é usado para substituir frases.\n",
    "texto = 'Breno é bom jogando bola'\n",
    "novo_texto = texto.replace('jogando bola', 'correndo ao ar livre')\n",
    "print('Nova frase', novo_texto)"
   ]
  },
  {
   "cell_type": "code",
   "execution_count": null,
   "metadata": {},
   "outputs": [],
   "source": [
    "++"
   ]
  }
 ],
 "metadata": {
  "kernelspec": {
   "display_name": "Python 3",
   "language": "python",
   "name": "python3"
  },
  "language_info": {
   "codemirror_mode": {
    "name": "ipython",
    "version": 3
   },
   "file_extension": ".py",
   "mimetype": "text/x-python",
   "name": "python",
   "nbconvert_exporter": "python",
   "pygments_lexer": "ipython3",
   "version": "3.13.1"
  }
 },
 "nbformat": 4,
 "nbformat_minor": 2
}
